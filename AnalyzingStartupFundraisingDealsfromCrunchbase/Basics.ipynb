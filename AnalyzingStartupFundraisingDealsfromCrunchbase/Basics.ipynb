{
 "cells": [
  {
   "cell_type": "code",
   "execution_count": 1,
   "metadata": {
    "tags": []
   },
   "outputs": [],
   "source": [
    "import pandas as pd\n"
   ]
  },
  {
   "cell_type": "code",
   "execution_count": 2,
   "metadata": {},
   "outputs": [],
   "source": [
    "chunk_iter = pd.read_csv('crunchbase-investments.csv', chunksize=5000, encoding='Latin-1')\n",
    "#we must specify the different encoding other than utf, it doesnt run as it cant decode all the data."
   ]
  },
  {
   "cell_type": "markdown",
   "metadata": {},
   "source": [
    "### Here the data is not just 5000, so we are going to iterate the chunks and then run the statement."
   ]
  },
  {
   "cell_type": "code",
   "execution_count": 3,
   "metadata": {},
   "outputs": [
    {
     "name": "stdout",
     "output_type": "stream",
     "text": [
      "Total number of rows in the dataset: 52870\n"
     ]
    }
   ],
   "source": [
    "cb_length = []\n",
    "\n",
    "# looking at dataset's length\n",
    "for chunk in chunk_iter:\n",
    "    cb_length.append(len(chunk))\n",
    "\n",
    "cb_length = sum(cb_length)\n",
    "\n",
    "print(f\"Total number of rows in the dataset: {cb_length}\")"
   ]
  },
  {
   "cell_type": "markdown",
   "metadata": {},
   "source": [
    "### Now we are going to re initialize and look for missing values."
   ]
  },
  {
   "cell_type": "code",
   "execution_count": 4,
   "metadata": {},
   "outputs": [
    {
     "name": "stdout",
     "output_type": "stream",
     "text": [
      "Index(['company_category_code', 'company_city', 'company_country_code',\n",
      "       'company_name', 'company_permalink', 'company_region',\n",
      "       'company_state_code', 'funded_at', 'funded_month', 'funded_quarter',\n",
      "       'funded_year', 'funding_round_type', 'investor_category_code',\n",
      "       'investor_city', 'investor_country_code', 'investor_name',\n",
      "       'investor_permalink', 'investor_region', 'investor_state_code',\n",
      "       'raised_amount_usd'],\n",
      "      dtype='object')\n"
     ]
    },
    {
     "data": {
      "text/plain": [
       "company_category_code       643\n",
       "company_city                533\n",
       "company_country_code          1\n",
       "company_name                  1\n",
       "company_permalink             1\n",
       "company_region                1\n",
       "company_state_code          492\n",
       "funded_at                     3\n",
       "funded_month                  3\n",
       "funded_quarter                3\n",
       "funded_year                   3\n",
       "funding_round_type            3\n",
       "investor_category_code    50427\n",
       "investor_city             12480\n",
       "investor_country_code     12001\n",
       "investor_name                 2\n",
       "investor_permalink            2\n",
       "investor_region               2\n",
       "investor_state_code       16809\n",
       "raised_amount_usd          3599\n",
       "dtype: int64"
      ]
     },
     "execution_count": 4,
     "metadata": {},
     "output_type": "execute_result"
    }
   ],
   "source": [
    "# Counting missing values by column\n",
    "chunk_iter = pd.read_csv('crunchbase-investments.csv', chunksize=5000, encoding='Latin-1')\n",
    "#empty list\n",
    "mv_list = []\n",
    "for chunk in chunk_iter:\n",
    "    if not mv_list:  # check if mv_list is empty\n",
    "        columns = chunk.columns\n",
    "        print(columns.sort_values())\n",
    "    mv_list.append(chunk.isnull().sum())\n",
    "combined_mv_vc = pd.concat(mv_list)\n",
    "unique_combined_mv_vc = combined_mv_vc.groupby(combined_mv_vc.index).sum()\n",
    "unique_combined_mv_vc"
   ]
  },
  {
   "cell_type": "markdown",
   "metadata": {},
   "source": [
    "#### As we can see, we have around 52k rows and the investor category code has around 50k empty columns which makes it a good choice to drop the column."
   ]
  },
  {
   "cell_type": "markdown",
   "metadata": {},
   "source": [
    "#### Now lets look at the memory usage of the columns."
   ]
  },
  {
   "cell_type": "code",
   "execution_count": 5,
   "metadata": {},
   "outputs": [
    {
     "data": {
      "text/plain": [
       "funded_year                422960\n",
       "raised_amount_usd          422960\n",
       "investor_category_code     622424\n",
       "investor_state_code       2476607\n",
       "investor_country_code     2647292\n",
       "investor_city             2885083\n",
       "company_state_code        3106051\n",
       "company_country_code      3172176\n",
       "funded_month              3383584\n",
       "funded_quarter            3383584\n",
       "investor_region           3396281\n",
       "funding_round_type        3410707\n",
       "company_region            3411545\n",
       "company_category_code     3421104\n",
       "company_city              3505886\n",
       "funded_at                 3542185\n",
       "company_name              3591326\n",
       "investor_name             3915666\n",
       "company_permalink         4057788\n",
       "investor_permalink        4980548\n",
       "dtype: int64"
      ]
     },
     "execution_count": 5,
     "metadata": {},
     "output_type": "execute_result"
    }
   ],
   "source": [
    "# Total memory footprint for each column\n",
    "\n",
    "chunk_iter = pd.read_csv('crunchbase-investments.csv', chunksize=5000, encoding='Latin-1')\n",
    "counter = 0\n",
    "series_memory_fp = pd.Series(dtype='float64')\n",
    "for chunk in chunk_iter:\n",
    "    if counter == 0:\n",
    "        series_memory_fp = chunk.memory_usage(deep=True)\n",
    "    else:\n",
    "        series_memory_fp += chunk.memory_usage(deep=True)\n",
    "    counter += 1\n",
    "\n",
    "# Drop memory footprint calculation for the index.\n",
    "series_memory_fp_before = series_memory_fp.drop('Index').sort_values()\n",
    "series_memory_fp_before"
   ]
  },
  {
   "cell_type": "markdown",
   "metadata": {},
   "source": [
    "#### checking the total memory usage!"
   ]
  },
  {
   "cell_type": "code",
   "execution_count": 6,
   "metadata": {},
   "outputs": [
    {
     "data": {
      "text/plain": [
       "np.float64(56.98753070831299)"
      ]
     },
     "execution_count": 6,
     "metadata": {},
     "output_type": "execute_result"
    }
   ],
   "source": [
    "\n",
    "# Total memory footprint of the data (in megabytes)\n",
    "series_memory_fp_before.sum() / (1024 * 1024)"
   ]
  },
  {
   "cell_type": "code",
   "execution_count": 7,
   "metadata": {},
   "outputs": [],
   "source": [
    "# Drop columns representing URLs or containing too many missing values (>90% missing)\n",
    "drop_cols = ['investor_permalink', 'company_permalink', 'investor_category_code', 'funded_month', 'funded_quarter', 'funded_year']\n",
    "keep_cols = chunk.columns.drop(drop_cols)"
   ]
  },
  {
   "cell_type": "code",
   "execution_count": 8,
   "metadata": {},
   "outputs": [
    {
     "data": {
      "text/plain": [
       "<bound method IndexOpsMixin.tolist of Index(['company_name', 'company_category_code', 'company_country_code',\n",
       "       'company_state_code', 'company_region', 'company_city', 'investor_name',\n",
       "       'investor_country_code', 'investor_state_code', 'investor_region',\n",
       "       'investor_city', 'funding_round_type', 'funded_at',\n",
       "       'raised_amount_usd'],\n",
       "      dtype='object')>"
      ]
     },
     "execution_count": 8,
     "metadata": {},
     "output_type": "execute_result"
    }
   ],
   "source": [
    "keep_cols.tolist"
   ]
  },
  {
   "cell_type": "markdown",
   "metadata": {},
   "source": [
    "### Selecting the data types"
   ]
  },
  {
   "cell_type": "code",
   "execution_count": 9,
   "metadata": {},
   "outputs": [],
   "source": [
    "# Key: Column name, Value: List of types\n",
    "col_types = {}\n",
    "chunk_iter = pd.read_csv('crunchbase-investments.csv', chunksize=5000, encoding='Latin-1', usecols=keep_cols)\n",
    "\n",
    "for chunk in chunk_iter:\n",
    "    for col in chunk.columns:\n",
    "        if col not in col_types:\n",
    "            col_types[col] = [str(chunk.dtypes[col])]\n",
    "        else:\n",
    "            col_types[col].append(str(chunk.dtypes[col]))"
   ]
  },
  {
   "cell_type": "code",
   "execution_count": 10,
   "metadata": {},
   "outputs": [
    {
     "data": {
      "text/plain": [
       "{'company_name': {'object'},\n",
       " 'company_category_code': {'object'},\n",
       " 'company_country_code': {'object'},\n",
       " 'company_state_code': {'object'},\n",
       " 'company_region': {'object'},\n",
       " 'company_city': {'object'},\n",
       " 'investor_name': {'object'},\n",
       " 'investor_country_code': {'float64', 'object'},\n",
       " 'investor_state_code': {'float64', 'object'},\n",
       " 'investor_region': {'object'},\n",
       " 'investor_city': {'float64', 'object'},\n",
       " 'funding_round_type': {'object'},\n",
       " 'funded_at': {'object'},\n",
       " 'raised_amount_usd': {'float64'}}"
      ]
     },
     "execution_count": 10,
     "metadata": {},
     "output_type": "execute_result"
    }
   ],
   "source": [
    "uniq_col_types = {}\n",
    "for k,v in col_types.items():\n",
    "    uniq_col_types[k] = set(col_types[k])\n",
    "uniq_col_types"
   ]
  },
  {
   "cell_type": "code",
   "execution_count": 11,
   "metadata": {},
   "outputs": [
    {
     "data": {
      "text/html": [
       "<div>\n",
       "<style scoped>\n",
       "    .dataframe tbody tr th:only-of-type {\n",
       "        vertical-align: middle;\n",
       "    }\n",
       "\n",
       "    .dataframe tbody tr th {\n",
       "        vertical-align: top;\n",
       "    }\n",
       "\n",
       "    .dataframe thead th {\n",
       "        text-align: right;\n",
       "    }\n",
       "</style>\n",
       "<table border=\"1\" class=\"dataframe\">\n",
       "  <thead>\n",
       "    <tr style=\"text-align: right;\">\n",
       "      <th></th>\n",
       "      <th>company_name</th>\n",
       "      <th>company_category_code</th>\n",
       "      <th>company_country_code</th>\n",
       "      <th>company_state_code</th>\n",
       "      <th>company_region</th>\n",
       "      <th>company_city</th>\n",
       "      <th>investor_name</th>\n",
       "      <th>investor_country_code</th>\n",
       "      <th>investor_state_code</th>\n",
       "      <th>investor_region</th>\n",
       "      <th>investor_city</th>\n",
       "      <th>funding_round_type</th>\n",
       "      <th>funded_at</th>\n",
       "      <th>raised_amount_usd</th>\n",
       "    </tr>\n",
       "  </thead>\n",
       "  <tbody>\n",
       "    <tr>\n",
       "      <th>50000</th>\n",
       "      <td>NuORDER</td>\n",
       "      <td>fashion</td>\n",
       "      <td>USA</td>\n",
       "      <td>CA</td>\n",
       "      <td>Los Angeles</td>\n",
       "      <td>West Hollywood</td>\n",
       "      <td>Mortimer Singer</td>\n",
       "      <td>NaN</td>\n",
       "      <td>NaN</td>\n",
       "      <td>unknown</td>\n",
       "      <td>NaN</td>\n",
       "      <td>series-a</td>\n",
       "      <td>2012-10-01</td>\n",
       "      <td>3060000.0</td>\n",
       "    </tr>\n",
       "    <tr>\n",
       "      <th>50001</th>\n",
       "      <td>ChaCha</td>\n",
       "      <td>advertising</td>\n",
       "      <td>USA</td>\n",
       "      <td>IN</td>\n",
       "      <td>Indianapolis</td>\n",
       "      <td>Carmel</td>\n",
       "      <td>Morton Meyerson</td>\n",
       "      <td>NaN</td>\n",
       "      <td>NaN</td>\n",
       "      <td>unknown</td>\n",
       "      <td>NaN</td>\n",
       "      <td>series-b</td>\n",
       "      <td>2007-10-01</td>\n",
       "      <td>12000000.0</td>\n",
       "    </tr>\n",
       "    <tr>\n",
       "      <th>50002</th>\n",
       "      <td>Binfire</td>\n",
       "      <td>software</td>\n",
       "      <td>USA</td>\n",
       "      <td>FL</td>\n",
       "      <td>Bocat Raton</td>\n",
       "      <td>Bocat Raton</td>\n",
       "      <td>Moshe Ariel</td>\n",
       "      <td>NaN</td>\n",
       "      <td>NaN</td>\n",
       "      <td>unknown</td>\n",
       "      <td>NaN</td>\n",
       "      <td>angel</td>\n",
       "      <td>2008-04-18</td>\n",
       "      <td>500000.0</td>\n",
       "    </tr>\n",
       "  </tbody>\n",
       "</table>\n",
       "</div>"
      ],
      "text/plain": [
       "      company_name company_category_code company_country_code  \\\n",
       "50000      NuORDER               fashion                  USA   \n",
       "50001       ChaCha           advertising                  USA   \n",
       "50002      Binfire              software                  USA   \n",
       "\n",
       "      company_state_code company_region    company_city    investor_name  \\\n",
       "50000                 CA    Los Angeles  West Hollywood  Mortimer Singer   \n",
       "50001                 IN   Indianapolis          Carmel  Morton Meyerson   \n",
       "50002                 FL    Bocat Raton     Bocat Raton      Moshe Ariel   \n",
       "\n",
       "       investor_country_code  investor_state_code investor_region  \\\n",
       "50000                    NaN                  NaN         unknown   \n",
       "50001                    NaN                  NaN         unknown   \n",
       "50002                    NaN                  NaN         unknown   \n",
       "\n",
       "       investor_city funding_round_type   funded_at  raised_amount_usd  \n",
       "50000            NaN           series-a  2012-10-01          3060000.0  \n",
       "50001            NaN           series-b  2007-10-01         12000000.0  \n",
       "50002            NaN              angel  2008-04-18           500000.0  "
      ]
     },
     "execution_count": 11,
     "metadata": {},
     "output_type": "execute_result"
    }
   ],
   "source": [
    "chunk.head(3)\n"
   ]
  },
  {
   "cell_type": "code",
   "execution_count": 13,
   "metadata": {},
   "outputs": [
    {
     "name": "stdout",
     "output_type": "stream",
     "text": [
      "Column: company_name, Unique Values: 11574\n",
      "Column: company_category_code, Unique Values: 44\n",
      "Column: company_country_code, Unique Values: 3\n",
      "Column: company_state_code, Unique Values: 51\n",
      "Column: company_region, Unique Values: 547\n",
      "Column: company_city, Unique Values: 1230\n",
      "Column: investor_name, Unique Values: 10466\n",
      "Column: investor_country_code, Unique Values: 75\n",
      "Column: investor_state_code, Unique Values: 53\n",
      "Column: investor_region, Unique Values: 586\n",
      "Column: investor_city, Unique Values: 993\n",
      "Column: funding_round_type, Unique Values: 10\n",
      "Column: funded_at, Unique Values: 2809\n",
      "Column: raised_amount_usd, Unique Values: 1469\n"
     ]
    }
   ],
   "source": [
    "# Analyzing unique value counts\n",
    "unique_values = {}\n",
    "\n",
    "chunk_iter = pd.read_csv('crunchbase-investments.csv', chunksize=5000, encoding='Latin-1', usecols=keep_cols)\n",
    "for chunk in chunk_iter:\n",
    "    for col in chunk.columns:\n",
    "        if col not in unique_values:\n",
    "            unique_values[col] = set()\n",
    "        unique_values[col].update(chunk[col].unique())\n",
    "\n",
    "for col, unique_vals in unique_values.items():\n",
    "    print(f\"Column: {col}, Unique Values: {len(unique_vals)}\")"
   ]
  },
  {
   "cell_type": "code",
   "execution_count": 14,
   "metadata": {},
   "outputs": [
    {
     "name": "stdout",
     "output_type": "stream",
     "text": [
      "funding_round_type         61906\n",
      "investor_country_code      81118\n",
      "investor_state_code        81811\n",
      "company_category_code      94160\n",
      "funded_at                 422960\n",
      "raised_amount_usd         422960\n",
      "investor_city            2885083\n",
      "company_state_code       3106051\n",
      "company_country_code     3172176\n",
      "investor_region          3396281\n",
      "company_region           3411545\n",
      "company_city             3505886\n",
      "company_name             3591326\n",
      "investor_name            3915666\n",
      "dtype: int64\n"
     ]
    },
    {
     "data": {
      "text/plain": [
       "np.float64(26.844910621643066)"
      ]
     },
     "execution_count": 14,
     "metadata": {},
     "output_type": "execute_result"
    }
   ],
   "source": [
    "col_types = {\n",
    "    'company_category_code': 'category',\n",
    "    'funding_round_type': 'category',\n",
    "    'investor_state_code': 'category',\n",
    "    'investor_country_code': 'category'\n",
    "}\n",
    "\n",
    "chunk_iter = pd.read_csv('crunchbase-investments.csv', \n",
    "                         chunksize=5000, \n",
    "                         encoding='Latin-1', \n",
    "                         usecols=keep_cols,\n",
    "                         dtype=col_types,\n",
    "                         parse_dates=['funded_at']\n",
    "                        )\n",
    "\n",
    "counter = 0\n",
    "series_memory_fp = pd.Series(dtype='float64')\n",
    "for chunk in chunk_iter:\n",
    "    if counter == 0:\n",
    "        series_memory_fp = chunk.memory_usage(deep=True)\n",
    "    else:\n",
    "        series_memory_fp += chunk.memory_usage(deep=True)\n",
    "    counter += 1\n",
    "\n",
    "# Drop memory footprint calculation for the index.\n",
    "series_memory_fp_after = series_memory_fp.drop('Index').sort_values()\n",
    "print(series_memory_fp_after)\n",
    "\n",
    "# Total memory footprint of the data (in megabytes)\n",
    "series_memory_fp_after.sum() / (1024 * 1024)"
   ]
  },
  {
   "cell_type": "code",
   "execution_count": 15,
   "metadata": {},
   "outputs": [
    {
     "data": {
      "text/html": [
       "<div>\n",
       "<style scoped>\n",
       "    .dataframe tbody tr th:only-of-type {\n",
       "        vertical-align: middle;\n",
       "    }\n",
       "\n",
       "    .dataframe tbody tr th {\n",
       "        vertical-align: top;\n",
       "    }\n",
       "\n",
       "    .dataframe thead th {\n",
       "        text-align: right;\n",
       "    }\n",
       "</style>\n",
       "<table border=\"1\" class=\"dataframe\">\n",
       "  <thead>\n",
       "    <tr style=\"text-align: right;\">\n",
       "      <th></th>\n",
       "      <th>Before</th>\n",
       "      <th>After</th>\n",
       "      <th>Difference</th>\n",
       "    </tr>\n",
       "  </thead>\n",
       "  <tbody>\n",
       "    <tr>\n",
       "      <th>funding_round_type</th>\n",
       "      <td>3410707</td>\n",
       "      <td>61906.0</td>\n",
       "      <td>-3348801.0</td>\n",
       "    </tr>\n",
       "    <tr>\n",
       "      <th>company_category_code</th>\n",
       "      <td>3421104</td>\n",
       "      <td>94160.0</td>\n",
       "      <td>-3326944.0</td>\n",
       "    </tr>\n",
       "    <tr>\n",
       "      <th>funded_at</th>\n",
       "      <td>3542185</td>\n",
       "      <td>422960.0</td>\n",
       "      <td>-3119225.0</td>\n",
       "    </tr>\n",
       "    <tr>\n",
       "      <th>investor_country_code</th>\n",
       "      <td>2647292</td>\n",
       "      <td>81118.0</td>\n",
       "      <td>-2566174.0</td>\n",
       "    </tr>\n",
       "    <tr>\n",
       "      <th>investor_state_code</th>\n",
       "      <td>2476607</td>\n",
       "      <td>81811.0</td>\n",
       "      <td>-2394796.0</td>\n",
       "    </tr>\n",
       "    <tr>\n",
       "      <th>company_country_code</th>\n",
       "      <td>3172176</td>\n",
       "      <td>3172176.0</td>\n",
       "      <td>0.0</td>\n",
       "    </tr>\n",
       "    <tr>\n",
       "      <th>company_name</th>\n",
       "      <td>3591326</td>\n",
       "      <td>3591326.0</td>\n",
       "      <td>0.0</td>\n",
       "    </tr>\n",
       "    <tr>\n",
       "      <th>company_city</th>\n",
       "      <td>3505886</td>\n",
       "      <td>3505886.0</td>\n",
       "      <td>0.0</td>\n",
       "    </tr>\n",
       "    <tr>\n",
       "      <th>company_region</th>\n",
       "      <td>3411545</td>\n",
       "      <td>3411545.0</td>\n",
       "      <td>0.0</td>\n",
       "    </tr>\n",
       "    <tr>\n",
       "      <th>company_state_code</th>\n",
       "      <td>3106051</td>\n",
       "      <td>3106051.0</td>\n",
       "      <td>0.0</td>\n",
       "    </tr>\n",
       "    <tr>\n",
       "      <th>investor_name</th>\n",
       "      <td>3915666</td>\n",
       "      <td>3915666.0</td>\n",
       "      <td>0.0</td>\n",
       "    </tr>\n",
       "    <tr>\n",
       "      <th>investor_city</th>\n",
       "      <td>2885083</td>\n",
       "      <td>2885083.0</td>\n",
       "      <td>0.0</td>\n",
       "    </tr>\n",
       "    <tr>\n",
       "      <th>investor_region</th>\n",
       "      <td>3396281</td>\n",
       "      <td>3396281.0</td>\n",
       "      <td>0.0</td>\n",
       "    </tr>\n",
       "    <tr>\n",
       "      <th>raised_amount_usd</th>\n",
       "      <td>422960</td>\n",
       "      <td>422960.0</td>\n",
       "      <td>0.0</td>\n",
       "    </tr>\n",
       "    <tr>\n",
       "      <th>company_permalink</th>\n",
       "      <td>4057788</td>\n",
       "      <td>NaN</td>\n",
       "      <td>NaN</td>\n",
       "    </tr>\n",
       "    <tr>\n",
       "      <th>funded_month</th>\n",
       "      <td>3383584</td>\n",
       "      <td>NaN</td>\n",
       "      <td>NaN</td>\n",
       "    </tr>\n",
       "    <tr>\n",
       "      <th>funded_quarter</th>\n",
       "      <td>3383584</td>\n",
       "      <td>NaN</td>\n",
       "      <td>NaN</td>\n",
       "    </tr>\n",
       "    <tr>\n",
       "      <th>funded_year</th>\n",
       "      <td>422960</td>\n",
       "      <td>NaN</td>\n",
       "      <td>NaN</td>\n",
       "    </tr>\n",
       "    <tr>\n",
       "      <th>investor_category_code</th>\n",
       "      <td>622424</td>\n",
       "      <td>NaN</td>\n",
       "      <td>NaN</td>\n",
       "    </tr>\n",
       "    <tr>\n",
       "      <th>investor_permalink</th>\n",
       "      <td>4980548</td>\n",
       "      <td>NaN</td>\n",
       "      <td>NaN</td>\n",
       "    </tr>\n",
       "  </tbody>\n",
       "</table>\n",
       "</div>"
      ],
      "text/plain": [
       "                         Before      After  Difference\n",
       "funding_round_type      3410707    61906.0  -3348801.0\n",
       "company_category_code   3421104    94160.0  -3326944.0\n",
       "funded_at               3542185   422960.0  -3119225.0\n",
       "investor_country_code   2647292    81118.0  -2566174.0\n",
       "investor_state_code     2476607    81811.0  -2394796.0\n",
       "company_country_code    3172176  3172176.0         0.0\n",
       "company_name            3591326  3591326.0         0.0\n",
       "company_city            3505886  3505886.0         0.0\n",
       "company_region          3411545  3411545.0         0.0\n",
       "company_state_code      3106051  3106051.0         0.0\n",
       "investor_name           3915666  3915666.0         0.0\n",
       "investor_city           2885083  2885083.0         0.0\n",
       "investor_region         3396281  3396281.0         0.0\n",
       "raised_amount_usd        422960   422960.0         0.0\n",
       "company_permalink       4057788        NaN         NaN\n",
       "funded_month            3383584        NaN         NaN\n",
       "funded_quarter          3383584        NaN         NaN\n",
       "funded_year              422960        NaN         NaN\n",
       "investor_category_code   622424        NaN         NaN\n",
       "investor_permalink      4980548        NaN         NaN"
      ]
     },
     "execution_count": 15,
     "metadata": {},
     "output_type": "execute_result"
    }
   ],
   "source": [
    "df = pd.DataFrame({\n",
    "    'Before': series_memory_fp_before,\n",
    "    'After': series_memory_fp_after,\n",
    "    'Difference': series_memory_fp_after - series_memory_fp_before\n",
    "})\n",
    "\n",
    "df.sort_values('Difference')"
   ]
  },
  {
   "cell_type": "code",
   "execution_count": 16,
   "metadata": {},
   "outputs": [
    {
     "name": "stdout",
     "output_type": "stream",
     "text": [
      "Before total memory: 56.98753070831299\n",
      "After total memory: 26.844910621643066\n"
     ]
    }
   ],
   "source": [
    "print(f'Before total memory: {series_memory_fp_before.sum() / (1024 * 1024)}')\n",
    "print(f'After total memory: {series_memory_fp_after.sum() / (1024 * 1024)}')"
   ]
  },
  {
   "cell_type": "markdown",
   "metadata": {},
   "source": [
    "### Loading Chunks into SQLite\n"
   ]
  },
  {
   "cell_type": "code",
   "execution_count": 19,
   "metadata": {},
   "outputs": [],
   "source": [
    "#import SQLite3\n",
    "import sqlite3\n",
    "#this creates a db in jyp env\n",
    "conn = sqlite3.connect('crunchbase.db')\n",
    "cursor = conn.cursor()"
   ]
  },
  {
   "cell_type": "code",
   "execution_count": 20,
   "metadata": {},
   "outputs": [
    {
     "name": "stdout",
     "output_type": "stream",
     "text": [
      "Tables found in the database: ['investments']\n"
     ]
    }
   ],
   "source": [
    "chunk_iter = pd.read_csv('crunchbase-investments.csv', \n",
    "                         chunksize=5000, \n",
    "                         encoding='Latin-1', \n",
    "                         usecols=keep_cols,\n",
    "                         dtype=col_types,\n",
    "                         parse_dates=['funded_at']\n",
    "                        )\n",
    "for chunk in chunk_iter:\n",
    "    chunk.to_sql(\"investments\", conn, if_exists='append', index=False)\n",
    "    \n",
    "cursor.execute(\"SELECT name FROM sqlite_master WHERE type='table';\")\n",
    "tables = cursor.fetchall()\n",
    "\n",
    "if tables:\n",
    "    print(\"Tables found in the database:\", [t[0] for t in tables])\n",
    "else:\n",
    "    print(\"No tables found in the database.\")"
   ]
  },
  {
   "cell_type": "code",
   "execution_count": 21,
   "metadata": {},
   "outputs": [
    {
     "name": "stdout",
     "output_type": "stream",
     "text": [
      "[('AdverCar', 'advertising', 'USA', 'CA', 'SF Bay', 'San Francisco', '1-800-FLOWERS.COM', 'USA', 'NY', 'New York', 'New York', 'series-a', '2012-10-30 00:00:00', 2000000.0), ('LaunchGram', 'news', 'USA', 'CA', 'SF Bay', 'Mountain View', '10Xelerator', 'USA', 'OH', 'Columbus', 'Columbus', 'other', '2012-01-23 00:00:00', 20000.0), ('uTaP', 'messaging', 'USA', None, 'United States - Other', None, '10Xelerator', 'USA', 'OH', 'Columbus', 'Columbus', 'other', '2012-01-01 00:00:00', 20000.0), ('ZoopShop', 'software', 'USA', 'OH', 'Columbus', 'columbus', '10Xelerator', 'USA', 'OH', 'Columbus', 'Columbus', 'angel', '2012-02-15 00:00:00', 20000.0), ('eFuneral', 'web', 'USA', 'OH', 'Cleveland', 'Cleveland', '10Xelerator', 'USA', 'OH', 'Columbus', 'Columbus', 'other', '2011-09-08 00:00:00', 20000.0)]\n"
     ]
    }
   ],
   "source": [
    "\n",
    "cursor.execute(\"SELECT * FROM investments LIMIT 5;\")\n",
    "print(cursor.fetchall())"
   ]
  },
  {
   "cell_type": "markdown",
   "metadata": {},
   "source": [
    "### A gist with visualization of our data"
   ]
  },
  {
   "cell_type": "code",
   "execution_count": 23,
   "metadata": {},
   "outputs": [
    {
     "data": {
      "image/png": "[encoded data removed]",
      "text/plain": [
       "<Figure size 1200x600 with 1 Axes>"
      ]
     },
     "metadata": {},
     "output_type": "display_data"
    }
   ],
   "source": [
    "import matplotlib.pyplot as plt\n",
    "import seaborn as sns\n",
    "import pandas as pd\n",
    "\n",
    "pd.set_option('display.float_format', '{:.2f}'.format)\n",
    "\n",
    "# Query and prepare data\n",
    "df = pd.read_sql(\"\"\"\n",
    "                SELECT company_category_code, AVG(raised_amount_usd)\n",
    "                FROM investments\n",
    "                GROUP BY company_category_code\n",
    "                ORDER BY AVG(raised_amount_usd) DESC;\n",
    "                \"\"\", conn)\n",
    "\n",
    "df = df.set_index('company_category_code')\n",
    "\n",
    "# Select top N categories\n",
    "top_n = 15\n",
    "top_df = df.head(top_n)\n",
    "\n",
    "# Generate distinct colors for each bar\n",
    "colors = sns.color_palette('tab20', n_colors=top_n)\n",
    "\n",
    "# Plot with unique colors for each bar\n",
    "fig, ax = plt.subplots(figsize=(12, 6))\n",
    "bars = ax.bar(top_df.index, top_df['AVG(raised_amount_usd)'], color=colors, edgecolor='black')\n",
    "\n",
    "# Customize the plot\n",
    "ax.set_ylabel('Average Raised Amount (USD)')\n",
    "ax.set_title(f'Top {top_n} Categories by Average Raised Amount')\n",
    "ax.ticklabel_format(style='plain', axis='y')\n",
    "plt.xticks(rotation=45, ha='right')\n",
    "ax.grid(True, axis='y', linestyle='--', alpha=0.7)\n",
    "\n",
    "plt.tight_layout()\n",
    "plt.show()\n"
   ]
  },
  {
   "cell_type": "code",
   "execution_count": null,
   "metadata": {},
   "outputs": [],
   "source": []
  }
 ],
 "metadata": {
  "anaconda-cloud": {},
  "kernelspec": {
   "display_name": "Python 3 (ipykernel)",
   "language": "python",
   "name": "python3"
  },
  "language_info": {
   "codemirror_mode": {
    "name": "ipython",
    "version": 3
   },
   "file_extension": ".py",
   "mimetype": "text/x-python",
   "name": "python",
   "nbconvert_exporter": "python",
   "pygments_lexer": "ipython3",
   "version": "3.11.0rc1"
  }
 },
 "nbformat": 4,
 "nbformat_minor": 4
}
